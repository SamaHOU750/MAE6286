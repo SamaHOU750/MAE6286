{
 "cells": [
  {
   "cell_type": "code",
   "execution_count": 82,
   "metadata": {},
   "outputs": [],
   "source": [
    "import numpy\n",
    "from matplotlib import pyplot\n",
    "\n",
    "%matplotlib inline\n",
    "\n",
    "def velocity(rho_max,U_max, rho):\n",
    "    U = U_max * (1 - rho / rho_max)\n",
    "    return U\n",
    "def flux(rho,U_max,rho_max):\n",
    "    U = velocity(rho_max,U_max, rho)\n",
    "    F = rho * U\n",
    "    return F\n",
    "def ftbs(rho_0,U_max, rho_max, dt,dx,nt = 30 ):\n",
    "    rho_hist = [rho_0.copy()]\n",
    "    rho = rho_0.copy()\n",
    "    F = flux(rho,U_max,rho_max)\n",
    "    for n in range (nt):\n",
    "        rho[1:] = rho[1:] - dt/dx * (F[1:]-F[:-1])\n",
    "        rho[0] = 0\n",
    "        rho[-1] = 0\n",
    "        rho_hist.append(rho.copy())\n",
    "    return rho_hist\n",
    "def ic(x, x_l = 2, rho_l = 10):\n",
    "    rho_0 = numpy.zeros_like(x)\n",
    "    mask = numpy.where(numpy.logical_and(x>=0 , x<=x_l))\n",
    "    rho_0[mask] = rho_l * x[mask]/ x_l\n",
    "    return rho_0"
   ]
  },
  {
   "cell_type": "code",
   "execution_count": 83,
   "metadata": {},
   "outputs": [],
   "source": [
    "U_max = 1.0\n",
    "rho_max = 10.0\n",
    "nx = 81\n",
    "L = 4\n",
    "nt = 30\n",
    "dx = L/ (nx-1)\n",
    "dt = dx / U_max\n",
    "x = numpy.linspace(0.0, L, num = nx)"
   ]
  },
  {
   "cell_type": "code",
   "execution_count": 84,
   "metadata": {},
   "outputs": [],
   "source": [
    "x_l = 2.0\n",
    "rho_l = 10.0"
   ]
  },
  {
   "cell_type": "code",
   "execution_count": 86,
   "metadata": {},
   "outputs": [],
   "source": [
    "rho_0 = ic(x, x_l = 2, rho_l = 10)"
   ]
  },
  {
   "cell_type": "code",
   "execution_count": 89,
   "metadata": {},
   "outputs": [],
   "source": [
    "rho_hist = ftbs(rho_0,U_max, rho_max, dt,dx,nt = 30)"
   ]
  },
  {
   "cell_type": "code",
   "execution_count": 107,
   "metadata": {},
   "outputs": [],
   "source": [
    "def plot(n,x,rho_hist):\n",
    "    pyplot.figure()\n",
    "    pyplot.xlabel('x')\n",
    "    pyplot.ylabel('p')\n",
    "    pyplot.grid()\n",
    "    pyplot.plot(x,rho_hist[n])\n",
    "    pyplot.xlim(x[0],x[-1])\n",
    "    pyplot.ylim(-0.5, 20)\n",
    "    pyplot.show()"
   ]
  },
  {
   "cell_type": "code",
   "execution_count": 108,
   "metadata": {},
   "outputs": [
    {
     "data": {
      "image/png": "[encoded data removed]",
      "text/plain": [
       "<Figure size 432x288 with 1 Axes>"
      ]
     },
     "metadata": {
      "needs_background": "light"
     },
     "output_type": "display_data"
    }
   ],
   "source": [
    "plot(0,x,rho_hist)"
   ]
  },
  {
   "cell_type": "code",
   "execution_count": 109,
   "metadata": {},
   "outputs": [],
   "source": [
    "import ipywidgets"
   ]
  },
  {
   "cell_type": "code",
   "execution_count": 110,
   "metadata": {},
   "outputs": [],
   "source": [
    "def interactive_plot(x,rho_hist):\n",
    "    nt = len(rho_hist)\n",
    "    nt_slider = ipywidgets.IntSlider(value = 0,  min = 0, max = nt,step=1, description = 'Time step')\n",
    "    w = ipywidgets.interactive(plot,n=nt_slider, x = ipywidgets.fixed(x),rho_hist = ipywidgets.fixed(rho_hist))\n",
    "    return w"
   ]
  },
  {
   "cell_type": "code",
   "execution_count": 111,
   "metadata": {},
   "outputs": [
    {
     "data": {
      "application/vnd.jupyter.widget-view+json": {
       "model_id": "fcc21c5334bd464dacc5aa7c32a28e43",
       "version_major": 2,
       "version_minor": 0
      },
      "text/plain": [
       "interactive(children=(IntSlider(value=0, description='Time step', max=31), Output()), _dom_classes=('widget-in…"
      ]
     },
     "metadata": {},
     "output_type": "display_data"
    },
    {
     "data": {
      "image/png": "[encoded data removed]",
      "text/plain": [
       "<Figure size 432x288 with 1 Axes>"
      ]
     },
     "metadata": {
      "needs_background": "light"
     },
     "output_type": "display_data"
    },
    {
     "data": {
      "image/png": "[encoded data removed]",
      "text/plain": [
       "<Figure size 432x288 with 1 Axes>"
      ]
     },
     "metadata": {
      "needs_background": "light"
     },
     "output_type": "display_data"
    }
   ],
   "source": [
    "interactive_plot(x,rho_hist)"
   ]
  },
  {
   "cell_type": "code",
   "execution_count": null,
   "metadata": {},
   "outputs": [],
   "source": []
  }
 ],
 "metadata": {
  "kernelspec": {
   "display_name": "Python 3",
   "language": "python",
   "name": "python3"
  },
  "language_info": {
   "codemirror_mode": {
    "name": "ipython",
    "version": 3
   },
   "file_extension": ".py",
   "mimetype": "text/x-python",
   "name": "python",
   "nbconvert_exporter": "python",
   "pygments_lexer": "ipython3",
   "version": "3.7.3"
  }
 },
 "nbformat": 4,
 "nbformat_minor": 2
}

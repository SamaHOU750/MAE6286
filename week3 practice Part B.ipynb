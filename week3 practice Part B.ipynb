{
 "cells": [
  {
   "cell_type": "code",
   "execution_count": null,
   "metadata": {},
   "outputs": [],
   "source": [
    "r=2\n",
    "dt_coarsest=0.004\n",
    "dt_medium=\n",
    "dt_finest=\n",
    "\n",
    "N_coarsest=\n",
    "N_medium=\n",
    "N_finest=\n",
    "\n",
    "u_coarsest=\n",
    "u_medium=\n",
    "u_finest="
   ]
  }
 ],
 "metadata": {
  "kernelspec": {
   "display_name": "Python 3",
   "language": "python",
   "name": "python3"
  },
  "language_info": {
   "codemirror_mode": {
    "name": "ipython",
    "version": 3
   },
   "file_extension": ".py",
   "mimetype": "text/x-python",
   "name": "python",
   "nbconvert_exporter": "python",
   "pygments_lexer": "ipython3",
   "version": "3.6.2"
  }
 },
 "nbformat": 4,
 "nbformat_minor": 2
}

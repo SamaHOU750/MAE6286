{
 "cells": [
  {
   "cell_type": "code",
   "execution_count": 12,
   "metadata": {},
   "outputs": [],
   "source": [
    "import numpy\n",
    "from matplotlib import pyplot\n",
    "import ipywidgets\n",
    "\n",
    "%matplotlib inline"
   ]
  },
  {
   "cell_type": "code",
   "execution_count": 13,
   "metadata": {},
   "outputs": [],
   "source": [
    "pyplot.rc('font',family='serif',size=16)"
   ]
  },
  {
   "cell_type": "code",
   "execution_count": 14,
   "metadata": {},
   "outputs": [],
   "source": [
    "def rho_red_light(x, rho_max):\n",
    "    rho = numpy.full_like(x, rho_max)\n",
    "#     rho = rho_max *numpy.ones_like(x)\n",
    "    mask = numpy.where(x<3.0)\n",
    "    rho[mask] /= 2\n",
    "#     rho[mask] = rho_max/2\n",
    "    return rho"
   ]
  },
  {
   "cell_type": "code",
   "execution_count": 15,
   "metadata": {},
   "outputs": [],
   "source": [
    "#set parameterts.\n",
    "nx = 81\n",
    "L = 4.0\n",
    "dx = L / (nx-1)\n",
    "x = numpy.linspace(0.0, L,num = nx)\n",
    "\n",
    "rho_max = 10.0\n",
    "u_max=1.0\n",
    "\n",
    "rho0 = rho_red_light(x,rho_max)"
   ]
  },
  {
   "cell_type": "code",
   "execution_count": 16,
   "metadata": {},
   "outputs": [],
   "source": [
    "def plot(n,x,rho_hist):\n",
    "    pyplot.figure()\n",
    "    pyplot.grid()\n",
    "    pyplot.title('Time step:{}'.format(n))\n",
    "    pyplot.xlabel('Road [km]')\n",
    "    pyplot.ylabel('Traffic density [cars/hr]')\n",
    "    pyplot.plot(x, rho_hist[n])\n",
    "    pyplot.xlim(x[0],x[-1])\n",
    "    pyplot.ylim(4.0 , 11.0)\n",
    "    pyplot.show"
   ]
  },
  {
   "cell_type": "code",
   "execution_count": 17,
   "metadata": {},
   "outputs": [
    {
     "data": {
      "image/png": "[encoded data removed]",
      "text/plain": [
       "<Figure size 432x288 with 1 Axes>"
      ]
     },
     "metadata": {
      "needs_background": "light"
     },
     "output_type": "display_data"
    }
   ],
   "source": [
    "plot(0, x, [rho0])"
   ]
  },
  {
   "cell_type": "code",
   "execution_count": 18,
   "metadata": {},
   "outputs": [],
   "source": [
    "def traffic_speed(rho, u_max,rho_max):\n",
    "    return u_max * (1 - rho / rho_max)\n",
    "\n",
    "def traffic_flux(rho, u_max, rho_max):\n",
    "    return rho*traffic_speed(rho,u_max,rho_max)"
   ]
  },
  {
   "cell_type": "code",
   "execution_count": 19,
   "metadata": {},
   "outputs": [],
   "source": [
    "def interactive_plot(x, rho_hist):\n",
    "    nt = len(rho_hist) - 1\n",
    "    nt_slider = ipywidgets.IntSlider(value=0,min=0,max=nt,step=1,descrption='Time step')\n",
    "    w = ipywidgets.interactive(plot, n=nt_slider,x = ipywidgets.fixed(x),rho_hist = ipywidgets.fixed(rho_hist))\n",
    "    return w"
   ]
  },
  {
   "cell_type": "raw",
   "metadata": {},
   "source": [
    "interactive_plot(x,[rho0])"
   ]
  },
  {
   "cell_type": "code",
   "execution_count": 20,
   "metadata": {},
   "outputs": [],
   "source": [
    "def lax_friedrichs(rho0,nt,dt,dx,u_max,rho_max):\n",
    "    #need to create/initialize 'rho_hist'\n",
    "    rho_hist = [rho0.copy()]\n",
    "    #need to compute solution of at each time step.\n",
    "    rho = rho0.copy()\n",
    "    nx = len(rho0)\n",
    "    nx = rho0.size\n",
    "    for n in range(nt):\n",
    "        rhon = rho.copy()\n",
    "        F = traffic_flux( rhon, u_max, rho_max)\n",
    "        for i in range(1,nx-1):\n",
    "            rho[i] = (0.5*(rhon[i - 1]+rhon[i+1]) - dt *(F[i+1] - F[i-1])/(2*dx))\n",
    "#             rho[1:-1] = (0.5 *(rhon[:-2]+rhon[2:]) -dt*(F[2:] - F[:-2]/dx))\n",
    "            rho_hist.append(rho.copy())\n",
    "    #what about boundary condition?\n",
    "    return rho_hist"
   ]
  },
  {
   "cell_type": "code",
   "execution_count": 21,
   "metadata": {},
   "outputs": [
    {
     "data": {
      "application/vnd.jupyter.widget-view+json": {
       "model_id": "5b17b5178d334ebfbd6de4c38cba81f0",
       "version_major": 2,
       "version_minor": 0
      },
      "text/plain": [
       "interactive(children=(IntSlider(value=0, description='n', max=3160), Output()), _dom_classes=('widget-interact…"
      ]
     },
     "metadata": {},
     "output_type": "display_data"
    }
   ],
   "source": [
    "nt = 40\n",
    "sigma = 1.0\n",
    "dt = sigma*dx / u_max\n",
    "\n",
    "rho_hist = lax_friedrichs(rho0,nt,dt,dx,u_max,rho_max)\n",
    "\n",
    "interactive_plot(x,rho_hist)"
   ]
  },
  {
   "cell_type": "code",
   "execution_count": 22,
   "metadata": {},
   "outputs": [
    {
     "data": {
      "application/vnd.jupyter.widget-view+json": {
       "model_id": "ea9f2ffb4d5f4116a95a9ba6df6479ff",
       "version_major": 2,
       "version_minor": 0
      },
      "text/plain": [
       "interactive(children=(IntSlider(value=0, description='n', max=6320), Output()), _dom_classes=('widget-interact…"
      ]
     },
     "metadata": {},
     "output_type": "display_data"
    }
   ],
   "source": [
    "sigma = 0.5\n",
    "dt = sigma*dt/u_max\n",
    "nt = 80\n",
    "rho_hist = lax_friedrichs(rho0,nt,dt,dx,u_max,rho_max)\n",
    "\n",
    "interactive_plot(x,rho_hist)"
   ]
  },
  {
   "cell_type": "code",
   "execution_count": 26,
   "metadata": {},
   "outputs": [
    {
     "ename": "SyntaxError",
     "evalue": "invalid syntax (<ipython-input-26-75a3137dc918>, line 12)",
     "output_type": "error",
     "traceback": [
      "\u001b[0;36m  File \u001b[0;32m\"<ipython-input-26-75a3137dc918>\"\u001b[0;36m, line \u001b[0;32m12\u001b[0m\n\u001b[0;31m    rho_hist.append(rho.copy())\u001b[0m\n\u001b[0m           ^\u001b[0m\n\u001b[0;31mSyntaxError\u001b[0m\u001b[0;31m:\u001b[0m invalid syntax\n"
     ]
    }
   ],
   "source": [
    "def traffic_jacobian(rho,u_max,rho_max):\n",
    "    J = u_max *(1-2*rho/rho_max)\n",
    "    return\n",
    "def lax_wendroff(rho0,nt,dt,dx,u_max,rho_max):\n",
    "    rho_hist = [rho0.copy()]\n",
    "    rho = rho0.copy()\n",
    "    for n in range(nt):\n",
    "        F = traffic_flux(rho, u_max, rho_max)\n",
    "        J = traffic_jacobian(rho,u_max,rho_max)\n",
    "        rho[1:-1] = (rho[1:-1] - dt*(F[2:]-F[:-2])/(2 *dx) + dt**2/ (4*dx**2) * ((J[1:-1]+J[2:])*(F[2:]-F[1:-1])) - ((J[:-2]+J[1:-1])*(F[1:-1]- F[:-2]))\n",
    "   \n",
    "        rho_hist.append(rho.copy())\n",
    "        return rho_hist"
   ]
  },
  {
   "cell_type": "code",
   "execution_count": null,
   "metadata": {},
   "outputs": [],
   "source": []
  }
 ],
 "metadata": {
  "kernelspec": {
   "display_name": "Python 3",
   "language": "python",
   "name": "python3"
  },
  "language_info": {
   "codemirror_mode": {
    "name": "ipython",
    "version": 3
   },
   "file_extension": ".py",
   "mimetype": "text/x-python",
   "name": "python",
   "nbconvert_exporter": "python",
   "pygments_lexer": "ipython3",
   "version": "3.7.3"
  }
 },
 "nbformat": 4,
 "nbformat_minor": 2
}
